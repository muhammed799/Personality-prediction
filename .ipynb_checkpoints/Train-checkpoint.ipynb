{
 "cells": [
  {
   "cell_type": "code",
   "execution_count": 1,
   "metadata": {
    "colab": {
     "base_uri": "https://localhost:8080/",
     "height": 34
    },
    "colab_type": "code",
    "executionInfo": {
     "elapsed": 2409,
     "status": "ok",
     "timestamp": 1590777362152,
     "user": {
      "displayName": "Sahaj d",
      "photoUrl": "",
      "userId": "13950582096679244504"
     },
     "user_tz": -330
    },
    "id": "eMCFDkyh-p2o",
    "outputId": "83d5a33b-e19b-472b-e79c-0438cbc87ea6"
   },
   "outputs": [
    {
     "name": "stderr",
     "output_type": "stream",
     "text": [
      "Using TensorFlow backend.\n"
     ]
    }
   ],
   "source": [
    "import pandas as pd\n",
    "import numpy as np\n",
    "import matplotlib.pyplot as plt\n",
    "#!pip install tensorflow==1.14.0\n",
    "from keras.utils import to_categorical\n",
    "from PIL import Image\n"
   ]
  },
  {
   "cell_type": "code",
   "execution_count": 0,
   "metadata": {
    "colab": {},
    "colab_type": "code",
    "id": "tRHxbJsjBeYD"
   },
   "outputs": [],
   "source": [
    "from keras.models import Sequential,Model\n",
    "from keras.layers import concatenate,Input\n",
    "from keras.layers import Dense, Dropout, Flatten\n",
    "from keras.layers import Conv2D, MaxPooling2D\n",
    "from keras.preprocessing import image\n",
    "from tqdm import tqdm_notebook\n"
   ]
  },
  {
   "cell_type": "code",
   "execution_count": 3,
   "metadata": {
    "colab": {
     "base_uri": "https://localhost:8080/",
     "height": 122
    },
    "colab_type": "code",
    "executionInfo": {
     "elapsed": 28880,
     "status": "ok",
     "timestamp": 1590777421503,
     "user": {
      "displayName": "Sahaj d",
      "photoUrl": "",
      "userId": "13950582096679244504"
     },
     "user_tz": -330
    },
    "id": "tm3QKNKs-rL0",
    "outputId": "922ee0eb-a1fe-49ac-bcd8-33045c8378b2"
   },
   "outputs": [
    {
     "name": "stdout",
     "output_type": "stream",
     "text": [
      "Go to this URL in a browser: https://accounts.google.com/o/oauth2/auth?client_id=947318989803-6bn6qk8qdgf4n4g3pfee6491hc0brc4i.apps.googleusercontent.com&redirect_uri=urn%3aietf%3awg%3aoauth%3a2.0%3aoob&response_type=code&scope=email%20https%3a%2f%2fwww.googleapis.com%2fauth%2fdocs.test%20https%3a%2f%2fwww.googleapis.com%2fauth%2fdrive%20https%3a%2f%2fwww.googleapis.com%2fauth%2fdrive.photos.readonly%20https%3a%2f%2fwww.googleapis.com%2fauth%2fpeopleapi.readonly\n",
      "\n",
      "Enter your authorization code:\n",
      "··········\n",
      "Mounted at /content/drive\n"
     ]
    }
   ],
   "source": [
    "from google.colab import drive\n",
    "drive.mount('/content/drive')"
   ]
  },
  {
   "cell_type": "code",
   "execution_count": 4,
   "metadata": {
    "colab": {
     "base_uri": "https://localhost:8080/",
     "height": 326
    },
    "colab_type": "code",
    "executionInfo": {
     "elapsed": 1046,
     "status": "ok",
     "timestamp": 1590777425211,
     "user": {
      "displayName": "Sahaj d",
      "photoUrl": "",
      "userId": "13950582096679244504"
     },
     "user_tz": -330
    },
    "id": "1ia3LX_--p21",
    "outputId": "aeefdf50-5cae-402e-9727-4ae6617ff663"
   },
   "outputs": [
    {
     "name": "stdout",
     "output_type": "stream",
     "text": [
      "Features Loaded\n"
     ]
    },
    {
     "data": {
      "text/html": [
       "<div>\n",
       "<style scoped>\n",
       "    .dataframe tbody tr th:only-of-type {\n",
       "        vertical-align: middle;\n",
       "    }\n",
       "\n",
       "    .dataframe tbody tr th {\n",
       "        vertical-align: top;\n",
       "    }\n",
       "\n",
       "    .dataframe thead th {\n",
       "        text-align: right;\n",
       "    }\n",
       "</style>\n",
       "<table border=\"1\" class=\"dataframe\">\n",
       "  <thead>\n",
       "    <tr style=\"text-align: right;\">\n",
       "      <th></th>\n",
       "      <th>Filename</th>\n",
       "      <th>Baseline</th>\n",
       "      <th>TopMargin</th>\n",
       "      <th>LetterSize</th>\n",
       "      <th>LineSpacing</th>\n",
       "      <th>WordSpacing</th>\n",
       "      <th>PenPressure</th>\n",
       "      <th>SlantAngle</th>\n",
       "      <th>EmotionalStability</th>\n",
       "      <th>WillPower</th>\n",
       "      <th>Modesty</th>\n",
       "      <th>PersonalHarmony</th>\n",
       "      <th>Discipline</th>\n",
       "      <th>Concentration</th>\n",
       "      <th>Communicativeness</th>\n",
       "      <th>SocialIsolation</th>\n",
       "      <th>Slant</th>\n",
       "    </tr>\n",
       "  </thead>\n",
       "  <tbody>\n",
       "    <tr>\n",
       "      <th>0</th>\n",
       "      <td>j06-008.png</td>\n",
       "      <td>0</td>\n",
       "      <td>0</td>\n",
       "      <td>1</td>\n",
       "      <td>0</td>\n",
       "      <td>2</td>\n",
       "      <td>1</td>\n",
       "      <td>5</td>\n",
       "      <td>0</td>\n",
       "      <td>1</td>\n",
       "      <td>1</td>\n",
       "      <td>0</td>\n",
       "      <td>0</td>\n",
       "      <td>0</td>\n",
       "      <td>0</td>\n",
       "      <td>1</td>\n",
       "      <td>2.0</td>\n",
       "    </tr>\n",
       "    <tr>\n",
       "      <th>1</th>\n",
       "      <td>g06-050e.png</td>\n",
       "      <td>2</td>\n",
       "      <td>1</td>\n",
       "      <td>1</td>\n",
       "      <td>0</td>\n",
       "      <td>2</td>\n",
       "      <td>0</td>\n",
       "      <td>6</td>\n",
       "      <td>0</td>\n",
       "      <td>1</td>\n",
       "      <td>1</td>\n",
       "      <td>0</td>\n",
       "      <td>1</td>\n",
       "      <td>0</td>\n",
       "      <td>0</td>\n",
       "      <td>1</td>\n",
       "      <td>3.0</td>\n",
       "    </tr>\n",
       "    <tr>\n",
       "      <th>2</th>\n",
       "      <td>d06-096.png</td>\n",
       "      <td>2</td>\n",
       "      <td>1</td>\n",
       "      <td>1</td>\n",
       "      <td>2</td>\n",
       "      <td>2</td>\n",
       "      <td>1</td>\n",
       "      <td>3</td>\n",
       "      <td>1</td>\n",
       "      <td>1</td>\n",
       "      <td>1</td>\n",
       "      <td>1</td>\n",
       "      <td>0</td>\n",
       "      <td>0</td>\n",
       "      <td>0</td>\n",
       "      <td>0</td>\n",
       "      <td>1.0</td>\n",
       "    </tr>\n",
       "    <tr>\n",
       "      <th>3</th>\n",
       "      <td>k04-033.png</td>\n",
       "      <td>2</td>\n",
       "      <td>1</td>\n",
       "      <td>1</td>\n",
       "      <td>0</td>\n",
       "      <td>2</td>\n",
       "      <td>1</td>\n",
       "      <td>2</td>\n",
       "      <td>1</td>\n",
       "      <td>1</td>\n",
       "      <td>1</td>\n",
       "      <td>0</td>\n",
       "      <td>0</td>\n",
       "      <td>0</td>\n",
       "      <td>0</td>\n",
       "      <td>1</td>\n",
       "      <td>1.0</td>\n",
       "    </tr>\n",
       "    <tr>\n",
       "      <th>4</th>\n",
       "      <td>d07-089.png</td>\n",
       "      <td>2</td>\n",
       "      <td>1</td>\n",
       "      <td>2</td>\n",
       "      <td>2</td>\n",
       "      <td>1</td>\n",
       "      <td>2</td>\n",
       "      <td>5</td>\n",
       "      <td>1</td>\n",
       "      <td>1</td>\n",
       "      <td>0</td>\n",
       "      <td>0</td>\n",
       "      <td>0</td>\n",
       "      <td>0</td>\n",
       "      <td>0</td>\n",
       "      <td>0</td>\n",
       "      <td>2.0</td>\n",
       "    </tr>\n",
       "  </tbody>\n",
       "</table>\n",
       "</div>"
      ],
      "text/plain": [
       "       Filename  Baseline  TopMargin  ...  Communicativeness  SocialIsolation  Slant\n",
       "0   j06-008.png         0          0  ...                  0                1    2.0\n",
       "1  g06-050e.png         2          1  ...                  0                1    3.0\n",
       "2   d06-096.png         2          1  ...                  0                0    1.0\n",
       "3   k04-033.png         2          1  ...                  0                1    1.0\n",
       "4   d07-089.png         2          1  ...                  0                0    2.0\n",
       "\n",
       "[5 rows x 17 columns]"
      ]
     },
     "execution_count": 4,
     "metadata": {
      "tags": []
     },
     "output_type": "execute_result"
    }
   ],
   "source": [
    "nfeatureDF = pd.read_csv(\"drive/My Drive/HandwritingPersonality/FinalFeatures.csv\")\n",
    "print(\"Features Loaded\")\n",
    "nfeatureDF.head()"
   ]
  },
  {
   "cell_type": "code",
   "execution_count": 5,
   "metadata": {
    "colab": {
     "base_uri": "https://localhost:8080/",
     "height": 204
    },
    "colab_type": "code",
    "executionInfo": {
     "elapsed": 990,
     "status": "ok",
     "timestamp": 1590777428095,
     "user": {
      "displayName": "Sahaj d",
      "photoUrl": "",
      "userId": "13950582096679244504"
     },
     "user_tz": -330
    },
    "id": "n9QWWc9I-p29",
    "outputId": "7e495d7e-4924-4176-f009-f16dafbcf27b"
   },
   "outputs": [
    {
     "data": {
      "text/html": [
       "<div>\n",
       "<style scoped>\n",
       "    .dataframe tbody tr th:only-of-type {\n",
       "        vertical-align: middle;\n",
       "    }\n",
       "\n",
       "    .dataframe tbody tr th {\n",
       "        vertical-align: top;\n",
       "    }\n",
       "\n",
       "    .dataframe thead th {\n",
       "        text-align: right;\n",
       "    }\n",
       "</style>\n",
       "<table border=\"1\" class=\"dataframe\">\n",
       "  <thead>\n",
       "    <tr style=\"text-align: right;\">\n",
       "      <th></th>\n",
       "      <th>Filename</th>\n",
       "      <th>Baseline</th>\n",
       "      <th>WordSpacing</th>\n",
       "      <th>Slant</th>\n",
       "    </tr>\n",
       "  </thead>\n",
       "  <tbody>\n",
       "    <tr>\n",
       "      <th>0</th>\n",
       "      <td>j06-008.png</td>\n",
       "      <td>0</td>\n",
       "      <td>2</td>\n",
       "      <td>2.0</td>\n",
       "    </tr>\n",
       "    <tr>\n",
       "      <th>1</th>\n",
       "      <td>g06-050e.png</td>\n",
       "      <td>2</td>\n",
       "      <td>2</td>\n",
       "      <td>3.0</td>\n",
       "    </tr>\n",
       "    <tr>\n",
       "      <th>2</th>\n",
       "      <td>d06-096.png</td>\n",
       "      <td>2</td>\n",
       "      <td>2</td>\n",
       "      <td>1.0</td>\n",
       "    </tr>\n",
       "    <tr>\n",
       "      <th>3</th>\n",
       "      <td>k04-033.png</td>\n",
       "      <td>2</td>\n",
       "      <td>2</td>\n",
       "      <td>1.0</td>\n",
       "    </tr>\n",
       "    <tr>\n",
       "      <th>4</th>\n",
       "      <td>d07-089.png</td>\n",
       "      <td>2</td>\n",
       "      <td>1</td>\n",
       "      <td>2.0</td>\n",
       "    </tr>\n",
       "  </tbody>\n",
       "</table>\n",
       "</div>"
      ],
      "text/plain": [
       "       Filename  Baseline  WordSpacing  Slant\n",
       "0   j06-008.png         0            2    2.0\n",
       "1  g06-050e.png         2            2    3.0\n",
       "2   d06-096.png         2            2    1.0\n",
       "3   k04-033.png         2            2    1.0\n",
       "4   d07-089.png         2            1    2.0"
      ]
     },
     "execution_count": 5,
     "metadata": {
      "tags": []
     },
     "output_type": "execute_result"
    }
   ],
   "source": [
    "finalData = nfeatureDF[['Filename','Baseline','WordSpacing','Slant']]\n",
    "finalData.head()"
   ]
  },
  {
   "cell_type": "code",
   "execution_count": 6,
   "metadata": {
    "colab": {
     "base_uri": "https://localhost:8080/",
     "height": 204
    },
    "colab_type": "code",
    "executionInfo": {
     "elapsed": 970,
     "status": "ok",
     "timestamp": 1590777431736,
     "user": {
      "displayName": "Sahaj d",
      "photoUrl": "",
      "userId": "13950582096679244504"
     },
     "user_tz": -330
    },
    "id": "driwOlY77XdF",
    "outputId": "950c12b9-5def-425d-b3db-046e71c1b034"
   },
   "outputs": [
    {
     "data": {
      "text/html": [
       "<div>\n",
       "<style scoped>\n",
       "    .dataframe tbody tr th:only-of-type {\n",
       "        vertical-align: middle;\n",
       "    }\n",
       "\n",
       "    .dataframe tbody tr th {\n",
       "        vertical-align: top;\n",
       "    }\n",
       "\n",
       "    .dataframe thead th {\n",
       "        text-align: right;\n",
       "    }\n",
       "</style>\n",
       "<table border=\"1\" class=\"dataframe\">\n",
       "  <thead>\n",
       "    <tr style=\"text-align: right;\">\n",
       "      <th></th>\n",
       "      <th>B_0</th>\n",
       "      <th>B_1</th>\n",
       "      <th>B_2</th>\n",
       "      <th>W_0</th>\n",
       "      <th>W_1</th>\n",
       "      <th>W_2</th>\n",
       "      <th>S_0.0</th>\n",
       "      <th>S_1.0</th>\n",
       "      <th>S_2.0</th>\n",
       "      <th>S_3.0</th>\n",
       "    </tr>\n",
       "  </thead>\n",
       "  <tbody>\n",
       "    <tr>\n",
       "      <th>0</th>\n",
       "      <td>1</td>\n",
       "      <td>0</td>\n",
       "      <td>0</td>\n",
       "      <td>0</td>\n",
       "      <td>0</td>\n",
       "      <td>1</td>\n",
       "      <td>0</td>\n",
       "      <td>0</td>\n",
       "      <td>1</td>\n",
       "      <td>0</td>\n",
       "    </tr>\n",
       "    <tr>\n",
       "      <th>1</th>\n",
       "      <td>0</td>\n",
       "      <td>0</td>\n",
       "      <td>1</td>\n",
       "      <td>0</td>\n",
       "      <td>0</td>\n",
       "      <td>1</td>\n",
       "      <td>0</td>\n",
       "      <td>0</td>\n",
       "      <td>0</td>\n",
       "      <td>1</td>\n",
       "    </tr>\n",
       "    <tr>\n",
       "      <th>2</th>\n",
       "      <td>0</td>\n",
       "      <td>0</td>\n",
       "      <td>1</td>\n",
       "      <td>0</td>\n",
       "      <td>0</td>\n",
       "      <td>1</td>\n",
       "      <td>0</td>\n",
       "      <td>1</td>\n",
       "      <td>0</td>\n",
       "      <td>0</td>\n",
       "    </tr>\n",
       "    <tr>\n",
       "      <th>3</th>\n",
       "      <td>0</td>\n",
       "      <td>0</td>\n",
       "      <td>1</td>\n",
       "      <td>0</td>\n",
       "      <td>0</td>\n",
       "      <td>1</td>\n",
       "      <td>0</td>\n",
       "      <td>1</td>\n",
       "      <td>0</td>\n",
       "      <td>0</td>\n",
       "    </tr>\n",
       "    <tr>\n",
       "      <th>4</th>\n",
       "      <td>0</td>\n",
       "      <td>0</td>\n",
       "      <td>1</td>\n",
       "      <td>0</td>\n",
       "      <td>1</td>\n",
       "      <td>0</td>\n",
       "      <td>0</td>\n",
       "      <td>0</td>\n",
       "      <td>1</td>\n",
       "      <td>0</td>\n",
       "    </tr>\n",
       "  </tbody>\n",
       "</table>\n",
       "</div>"
      ],
      "text/plain": [
       "   B_0  B_1  B_2  W_0  W_1  W_2  S_0.0  S_1.0  S_2.0  S_3.0\n",
       "0    1    0    0    0    0    1      0      0      1      0\n",
       "1    0    0    1    0    0    1      0      0      0      1\n",
       "2    0    0    1    0    0    1      0      1      0      0\n",
       "3    0    0    1    0    0    1      0      1      0      0\n",
       "4    0    0    1    0    1    0      0      0      1      0"
      ]
     },
     "execution_count": 6,
     "metadata": {
      "tags": []
     },
     "output_type": "execute_result"
    }
   ],
   "source": [
    "y = finalData.drop('Filename',axis=1)\n",
    "x = finalData.Filename\n",
    "\n",
    "output = pd.get_dummies(y,prefix=['B', 'W','S'], columns=['Baseline', 'WordSpacing','Slant'])\n",
    "\n",
    "output.head()\n"
   ]
  },
  {
   "cell_type": "code",
   "execution_count": 7,
   "metadata": {
    "colab": {
     "base_uri": "https://localhost:8080/",
     "height": 221
    },
    "colab_type": "code",
    "executionInfo": {
     "elapsed": 1224,
     "status": "ok",
     "timestamp": 1590777438422,
     "user": {
      "displayName": "Sahaj d",
      "photoUrl": "",
      "userId": "13950582096679244504"
     },
     "user_tz": -330
    },
    "id": "Krp5_mLwNgJ7",
    "outputId": "1fc579ba-62e1-437c-afb6-6d9c2a2c3335"
   },
   "outputs": [
    {
     "name": "stdout",
     "output_type": "stream",
     "text": [
      "Features Loaded\n"
     ]
    },
    {
     "data": {
      "text/html": [
       "<div>\n",
       "<style scoped>\n",
       "    .dataframe tbody tr th:only-of-type {\n",
       "        vertical-align: middle;\n",
       "    }\n",
       "\n",
       "    .dataframe tbody tr th {\n",
       "        vertical-align: top;\n",
       "    }\n",
       "\n",
       "    .dataframe thead th {\n",
       "        text-align: right;\n",
       "    }\n",
       "</style>\n",
       "<table border=\"1\" class=\"dataframe\">\n",
       "  <thead>\n",
       "    <tr style=\"text-align: right;\">\n",
       "      <th></th>\n",
       "      <th>Filename</th>\n",
       "      <th>Baseline</th>\n",
       "      <th>TopMargin</th>\n",
       "      <th>LetterSize</th>\n",
       "      <th>LineSpacing</th>\n",
       "      <th>WordSpacing</th>\n",
       "      <th>PenPressure</th>\n",
       "      <th>SlantAngle</th>\n",
       "    </tr>\n",
       "  </thead>\n",
       "  <tbody>\n",
       "    <tr>\n",
       "      <th>0</th>\n",
       "      <td>j06-008.png</td>\n",
       "      <td>0.26</td>\n",
       "      <td>2.29</td>\n",
       "      <td>11.78</td>\n",
       "      <td>5.06</td>\n",
       "      <td>1.58</td>\n",
       "      <td>124.03</td>\n",
       "      <td>0</td>\n",
       "    </tr>\n",
       "    <tr>\n",
       "      <th>1</th>\n",
       "      <td>g06-050e.png</td>\n",
       "      <td>0.04</td>\n",
       "      <td>0.00</td>\n",
       "      <td>10.62</td>\n",
       "      <td>7.29</td>\n",
       "      <td>1.35</td>\n",
       "      <td>181.43</td>\n",
       "      <td>180</td>\n",
       "    </tr>\n",
       "    <tr>\n",
       "      <th>2</th>\n",
       "      <td>d06-096.png</td>\n",
       "      <td>-0.19</td>\n",
       "      <td>0.00</td>\n",
       "      <td>12.67</td>\n",
       "      <td>2.52</td>\n",
       "      <td>1.32</td>\n",
       "      <td>126.84</td>\n",
       "      <td>30</td>\n",
       "    </tr>\n",
       "    <tr>\n",
       "      <th>3</th>\n",
       "      <td>k04-033.png</td>\n",
       "      <td>0.03</td>\n",
       "      <td>1.51</td>\n",
       "      <td>10.62</td>\n",
       "      <td>6.44</td>\n",
       "      <td>1.76</td>\n",
       "      <td>130.94</td>\n",
       "      <td>15</td>\n",
       "    </tr>\n",
       "    <tr>\n",
       "      <th>4</th>\n",
       "      <td>d07-089.png</td>\n",
       "      <td>-0.02</td>\n",
       "      <td>0.00</td>\n",
       "      <td>15.27</td>\n",
       "      <td>2.95</td>\n",
       "      <td>0.97</td>\n",
       "      <td>154.96</td>\n",
       "      <td>0</td>\n",
       "    </tr>\n",
       "  </tbody>\n",
       "</table>\n",
       "</div>"
      ],
      "text/plain": [
       "       Filename  Baseline  TopMargin  ...  WordSpacing  PenPressure  SlantAngle\n",
       "0   j06-008.png      0.26       2.29  ...         1.58       124.03           0\n",
       "1  g06-050e.png      0.04       0.00  ...         1.35       181.43         180\n",
       "2   d06-096.png     -0.19       0.00  ...         1.32       126.84          30\n",
       "3   k04-033.png      0.03       1.51  ...         1.76       130.94          15\n",
       "4   d07-089.png     -0.02       0.00  ...         0.97       154.96           0\n",
       "\n",
       "[5 rows x 8 columns]"
      ]
     },
     "execution_count": 7,
     "metadata": {
      "tags": []
     },
     "output_type": "execute_result"
    }
   ],
   "source": [
    "featureDF = pd.read_csv(\"drive/My Drive/HandwritingPersonality/Features.csv\")\n",
    "print(\"Features Loaded\")\n",
    "featureDF.head()"
   ]
  },
  {
   "cell_type": "code",
   "execution_count": 8,
   "metadata": {
    "colab": {
     "base_uri": "https://localhost:8080/",
     "height": 221
    },
    "colab_type": "code",
    "executionInfo": {
     "elapsed": 931,
     "status": "ok",
     "timestamp": 1590777447761,
     "user": {
      "displayName": "Sahaj d",
      "photoUrl": "",
      "userId": "13950582096679244504"
     },
     "user_tz": -330
    },
    "id": "tbn_Kpi3ObJ-",
    "outputId": "d9c25884-8e8d-4d92-83d2-433508641303"
   },
   "outputs": [
    {
     "name": "stdout",
     "output_type": "stream",
     "text": [
      "[  0.26   2.29  11.78   5.06   1.58 124.03   0.  ]\n"
     ]
    },
    {
     "data": {
      "text/html": [
       "<div>\n",
       "<style scoped>\n",
       "    .dataframe tbody tr th:only-of-type {\n",
       "        vertical-align: middle;\n",
       "    }\n",
       "\n",
       "    .dataframe tbody tr th {\n",
       "        vertical-align: top;\n",
       "    }\n",
       "\n",
       "    .dataframe thead th {\n",
       "        text-align: right;\n",
       "    }\n",
       "</style>\n",
       "<table border=\"1\" class=\"dataframe\">\n",
       "  <thead>\n",
       "    <tr style=\"text-align: right;\">\n",
       "      <th></th>\n",
       "      <th>Baseline</th>\n",
       "      <th>TopMargin</th>\n",
       "      <th>LetterSize</th>\n",
       "      <th>LineSpacing</th>\n",
       "      <th>WordSpacing</th>\n",
       "      <th>PenPressure</th>\n",
       "      <th>SlantAngle</th>\n",
       "    </tr>\n",
       "  </thead>\n",
       "  <tbody>\n",
       "    <tr>\n",
       "      <th>0</th>\n",
       "      <td>0.26</td>\n",
       "      <td>2.29</td>\n",
       "      <td>11.78</td>\n",
       "      <td>5.06</td>\n",
       "      <td>1.58</td>\n",
       "      <td>124.03</td>\n",
       "      <td>0</td>\n",
       "    </tr>\n",
       "    <tr>\n",
       "      <th>1</th>\n",
       "      <td>0.04</td>\n",
       "      <td>0.00</td>\n",
       "      <td>10.62</td>\n",
       "      <td>7.29</td>\n",
       "      <td>1.35</td>\n",
       "      <td>181.43</td>\n",
       "      <td>180</td>\n",
       "    </tr>\n",
       "    <tr>\n",
       "      <th>2</th>\n",
       "      <td>-0.19</td>\n",
       "      <td>0.00</td>\n",
       "      <td>12.67</td>\n",
       "      <td>2.52</td>\n",
       "      <td>1.32</td>\n",
       "      <td>126.84</td>\n",
       "      <td>30</td>\n",
       "    </tr>\n",
       "    <tr>\n",
       "      <th>3</th>\n",
       "      <td>0.03</td>\n",
       "      <td>1.51</td>\n",
       "      <td>10.62</td>\n",
       "      <td>6.44</td>\n",
       "      <td>1.76</td>\n",
       "      <td>130.94</td>\n",
       "      <td>15</td>\n",
       "    </tr>\n",
       "    <tr>\n",
       "      <th>4</th>\n",
       "      <td>-0.02</td>\n",
       "      <td>0.00</td>\n",
       "      <td>15.27</td>\n",
       "      <td>2.95</td>\n",
       "      <td>0.97</td>\n",
       "      <td>154.96</td>\n",
       "      <td>0</td>\n",
       "    </tr>\n",
       "  </tbody>\n",
       "</table>\n",
       "</div>"
      ],
      "text/plain": [
       "   Baseline  TopMargin  LetterSize  ...  WordSpacing  PenPressure  SlantAngle\n",
       "0      0.26       2.29       11.78  ...         1.58       124.03           0\n",
       "1      0.04       0.00       10.62  ...         1.35       181.43         180\n",
       "2     -0.19       0.00       12.67  ...         1.32       126.84          30\n",
       "3      0.03       1.51       10.62  ...         1.76       130.94          15\n",
       "4     -0.02       0.00       15.27  ...         0.97       154.96           0\n",
       "\n",
       "[5 rows x 7 columns]"
      ]
     },
     "execution_count": 8,
     "metadata": {
      "tags": []
     },
     "output_type": "execute_result"
    }
   ],
   "source": [
    "feature1 = featureDF.drop('Filename',axis=1)\n",
    "print(np.array(feature1.iloc[0]))\n",
    "feature1.head()"
   ]
  },
  {
   "cell_type": "code",
   "execution_count": 9,
   "metadata": {
    "colab": {
     "base_uri": "https://localhost:8080/",
     "height": 117,
     "referenced_widgets": [
      "93760a426cc845f8b983a06ef6c3740d",
      "be8c4b41ae2144369bb1cd64d80e7857",
      "4ed19a4e6b8c40338eda80e5ab9a7b59",
      "8435ae8278c44f21925cd0b09879c5be",
      "12c3cf1e97d94b1bbf18a4a9c385de11",
      "bc26707aa3d545aea786e39a800b7d9a",
      "4849d0c51ef1453599d1ede7e364b2e3",
      "eb542b01194d43ca9c1929245cdca808"
     ]
    },
    "colab_type": "code",
    "executionInfo": {
     "elapsed": 581146,
     "status": "ok",
     "timestamp": 1590778058655,
     "user": {
      "displayName": "Sahaj d",
      "photoUrl": "",
      "userId": "13950582096679244504"
     },
     "user_tz": -330
    },
    "id": "Qw9xQwB_7Xhz",
    "outputId": "ae26a813-ba61-4e38-fd73-3e04360012e1"
   },
   "outputs": [
    {
     "name": "stderr",
     "output_type": "stream",
     "text": [
      "/usr/local/lib/python3.6/dist-packages/ipykernel_launcher.py:3: TqdmDeprecationWarning: This function will be removed in tqdm==5.0.0\n",
      "Please use `tqdm.notebook.tqdm` instead of `tqdm.tqdm_notebook`\n",
      "  This is separate from the ipykernel package so we can avoid doing imports until\n"
     ]
    },
    {
     "data": {
      "application/vnd.jupyter.widget-view+json": {
       "model_id": "93760a426cc845f8b983a06ef6c3740d",
       "version_major": 2,
       "version_minor": 0
      },
      "text/plain": [
       "HBox(children=(FloatProgress(value=0.0, max=1534.0), HTML(value='')))"
      ]
     },
     "metadata": {
      "tags": []
     },
     "output_type": "display_data"
    },
    {
     "name": "stdout",
     "output_type": "stream",
     "text": [
      "\n"
     ]
    }
   ],
   "source": [
    "train_image = []\n",
    "train_feature = []\n",
    "for i in tqdm_notebook(range(x.shape[0])):\n",
    "    img = image.load_img('drive/My Drive/HandwritingPersonality/IAM_PREPROCESS/'+x[i],target_size=(400,400,3))\n",
    "    img = image.img_to_array(img)\n",
    "    img = img/255.\n",
    "    feature = np.array(feature1.iloc[i])\n",
    "    train_image.append(img)\n",
    "    train_feature.append(feature)\n",
    "X1 = np.array(train_image)\n",
    "X2 = np.array(train_feature)"
   ]
  },
  {
   "cell_type": "code",
   "execution_count": 10,
   "metadata": {
    "colab": {
     "base_uri": "https://localhost:8080/",
     "height": 34
    },
    "colab_type": "code",
    "executionInfo": {
     "elapsed": 908,
     "status": "ok",
     "timestamp": 1590778074314,
     "user": {
      "displayName": "Sahaj d",
      "photoUrl": "",
      "userId": "13950582096679244504"
     },
     "user_tz": -330
    },
    "id": "G4krIKjo7XkJ",
    "outputId": "ddf83b96-00a9-400e-e0c9-2917e1703987"
   },
   "outputs": [
    {
     "data": {
      "text/plain": [
       "(1534, 10)"
      ]
     },
     "execution_count": 10,
     "metadata": {
      "tags": []
     },
     "output_type": "execute_result"
    }
   ],
   "source": [
    "y = np.array(output)\n",
    "y.shape\n"
   ]
  },
  {
   "cell_type": "code",
   "execution_count": 0,
   "metadata": {
    "colab": {},
    "colab_type": "code",
    "id": "89lHNtT27XnU"
   },
   "outputs": [],
   "source": [
    "from sklearn.model_selection import train_test_split\n",
    "X_train1, X_test1, y_train1, y_test1 = train_test_split(X1, y, random_state=42, test_size=0.2)\n",
    "X_train2, X_test2, y_train2, y_test2 = train_test_split(X2, y, random_state=42, test_size=0.2)\n"
   ]
  },
  {
   "cell_type": "code",
   "execution_count": 12,
   "metadata": {
    "colab": {
     "base_uri": "https://localhost:8080/",
     "height": 34
    },
    "colab_type": "code",
    "executionInfo": {
     "elapsed": 950,
     "status": "ok",
     "timestamp": 1590778081392,
     "user": {
      "displayName": "Sahaj d",
      "photoUrl": "",
      "userId": "13950582096679244504"
     },
     "user_tz": -330
    },
    "id": "rbjoSGP7Ti2D",
    "outputId": "12c4892f-1cc8-4bea-afde-a9a33cb8400c"
   },
   "outputs": [
    {
     "data": {
      "text/plain": [
       "(1227, 7)"
      ]
     },
     "execution_count": 12,
     "metadata": {
      "tags": []
     },
     "output_type": "execute_result"
    }
   ],
   "source": [
    "X_train2.shape"
   ]
  },
  {
   "cell_type": "code",
   "execution_count": 16,
   "metadata": {
    "colab": {
     "base_uri": "https://localhost:8080/",
     "height": 952
    },
    "colab_type": "code",
    "executionInfo": {
     "elapsed": 953,
     "status": "ok",
     "timestamp": 1590778246023,
     "user": {
      "displayName": "Sahaj d",
      "photoUrl": "",
      "userId": "13950582096679244504"
     },
     "user_tz": -330
    },
    "id": "1xG6yZX9dmYf",
    "outputId": "eefb9cbb-2bf0-4e0d-c3bc-23fbca6a5454"
   },
   "outputs": [
    {
     "name": "stdout",
     "output_type": "stream",
     "text": [
      "Model: \"model_2\"\n",
      "__________________________________________________________________________________________________\n",
      "Layer (type)                    Output Shape         Param #     Connected to                     \n",
      "==================================================================================================\n",
      "conv2d_5_input (InputLayer)     (None, 400, 400, 3)  0                                            \n",
      "__________________________________________________________________________________________________\n",
      "conv2d_5 (Conv2D)               (None, 396, 396, 16) 1216        conv2d_5_input[0][0]             \n",
      "__________________________________________________________________________________________________\n",
      "max_pooling2d_5 (MaxPooling2D)  (None, 198, 198, 16) 0           conv2d_5[0][0]                   \n",
      "__________________________________________________________________________________________________\n",
      "dropout_6 (Dropout)             (None, 198, 198, 16) 0           max_pooling2d_5[0][0]            \n",
      "__________________________________________________________________________________________________\n",
      "conv2d_6 (Conv2D)               (None, 194, 194, 32) 12832       dropout_6[0][0]                  \n",
      "__________________________________________________________________________________________________\n",
      "max_pooling2d_6 (MaxPooling2D)  (None, 97, 97, 32)   0           conv2d_6[0][0]                   \n",
      "__________________________________________________________________________________________________\n",
      "dropout_7 (Dropout)             (None, 97, 97, 32)   0           max_pooling2d_6[0][0]            \n",
      "__________________________________________________________________________________________________\n",
      "conv2d_7 (Conv2D)               (None, 95, 95, 64)   18496       dropout_7[0][0]                  \n",
      "__________________________________________________________________________________________________\n",
      "max_pooling2d_7 (MaxPooling2D)  (None, 47, 47, 64)   0           conv2d_7[0][0]                   \n",
      "__________________________________________________________________________________________________\n",
      "dropout_8 (Dropout)             (None, 47, 47, 64)   0           max_pooling2d_7[0][0]            \n",
      "__________________________________________________________________________________________________\n",
      "conv2d_8 (Conv2D)               (None, 45, 45, 64)   36928       dropout_8[0][0]                  \n",
      "__________________________________________________________________________________________________\n",
      "max_pooling2d_8 (MaxPooling2D)  (None, 22, 22, 64)   0           conv2d_8[0][0]                   \n",
      "__________________________________________________________________________________________________\n",
      "dropout_9 (Dropout)             (None, 22, 22, 64)   0           max_pooling2d_8[0][0]            \n",
      "__________________________________________________________________________________________________\n",
      "flatten_2 (Flatten)             (None, 30976)        0           dropout_9[0][0]                  \n",
      "__________________________________________________________________________________________________\n",
      "dense_7 (Dense)                 (None, 128)          3965056     flatten_2[0][0]                  \n",
      "__________________________________________________________________________________________________\n",
      "dense_9_input (InputLayer)      (None, 7)            0                                            \n",
      "__________________________________________________________________________________________________\n",
      "dropout_10 (Dropout)            (None, 128)          0           dense_7[0][0]                    \n",
      "__________________________________________________________________________________________________\n",
      "dense_9 (Dense)                 (None, 8)            64          dense_9_input[0][0]              \n",
      "__________________________________________________________________________________________________\n",
      "dense_8 (Dense)                 (None, 64)           8256        dropout_10[0][0]                 \n",
      "__________________________________________________________________________________________________\n",
      "dense_10 (Dense)                (None, 4)            36          dense_9[0][0]                    \n",
      "__________________________________________________________________________________________________\n",
      "concatenate_2 (Concatenate)     (None, 68)           0           dense_8[0][0]                    \n",
      "                                                                 dense_10[0][0]                   \n",
      "__________________________________________________________________________________________________\n",
      "dense_11 (Dense)                (None, 64)           4416        concatenate_2[0][0]              \n",
      "__________________________________________________________________________________________________\n",
      "dense_12 (Dense)                (None, 10)           650         dense_11[0][0]                   \n",
      "==================================================================================================\n",
      "Total params: 4,047,950\n",
      "Trainable params: 4,047,950\n",
      "Non-trainable params: 0\n",
      "__________________________________________________________________________________________________\n"
     ]
    }
   ],
   "source": [
    "cnnmodel = Sequential()\n",
    "cnnmodel.add(Conv2D(filters=16, kernel_size=(5, 5), activation=\"relu\",input_shape=(400,400,3)))\n",
    "cnnmodel.add(MaxPooling2D(pool_size=(2, 2)))\n",
    "cnnmodel.add(Dropout(0.25))\n",
    "cnnmodel.add(Conv2D(filters=32, kernel_size=(5, 5), activation='relu'))\n",
    "cnnmodel.add(MaxPooling2D(pool_size=(2, 2)))\n",
    "cnnmodel.add(Dropout(0.25))\n",
    "cnnmodel.add(Conv2D(filters=64, kernel_size=(3, 3), activation=\"relu\"))\n",
    "cnnmodel.add(MaxPooling2D(pool_size=(2, 2)))\n",
    "cnnmodel.add(Dropout(0.25))\n",
    "cnnmodel.add(Conv2D(filters=64, kernel_size=(3, 3), activation='relu'))\n",
    "cnnmodel.add(MaxPooling2D(pool_size=(2, 2)))\n",
    "cnnmodel.add(Dropout(0.25))\n",
    "cnnmodel.add(Flatten())\n",
    "cnnmodel.add(Dense(128, activation='relu'))\n",
    "cnnmodel.add(Dropout(0.5))\n",
    "cnnmodel.add(Dense(64, activation='relu'))\n",
    "\n",
    "\n",
    "mlpmodel = Sequential()\n",
    "mlpmodel.add(Dense(8, input_dim=X_train2.shape[1], activation=\"relu\"))\n",
    "mlpmodel.add(Dense(4, activation=\"relu\"))\n",
    "\n",
    "combinedoutput = concatenate([cnnmodel.output, mlpmodel.output])\n",
    "combinedoutput = Dense(64, activation=\"relu\")(combinedoutput)\n",
    "modeloutput = Dense(10, activation='sigmoid')(combinedoutput)\n",
    "\n",
    "\n",
    "\n",
    "model = Model(inputs=[cnnmodel.input, mlpmodel.input], outputs=modeloutput)\n",
    "model.summary()"
   ]
  },
  {
   "cell_type": "code",
   "execution_count": 0,
   "metadata": {
    "colab": {},
    "colab_type": "code",
    "id": "fBgy74msDbCb"
   },
   "outputs": [],
   "source": [
    "model.compile(optimizer='adam', loss='binary_crossentropy', metrics=['accuracy'])\n"
   ]
  },
  {
   "cell_type": "code",
   "execution_count": 18,
   "metadata": {
    "colab": {
     "base_uri": "https://localhost:8080/",
     "height": 1000
    },
    "colab_type": "code",
    "executionInfo": {
     "elapsed": 259626,
     "status": "ok",
     "timestamp": 1590778518558,
     "user": {
      "displayName": "Sahaj d",
      "photoUrl": "",
      "userId": "13950582096679244504"
     },
     "user_tz": -330
    },
    "id": "RFsbo_DiDbG5",
    "outputId": "b5d63060-ebfd-45a0-e1a8-bf53906ce905"
   },
   "outputs": [
    {
     "name": "stdout",
     "output_type": "stream",
     "text": [
      "Train on 1227 samples, validate on 307 samples\n",
      "Epoch 1/50\n",
      "1227/1227 [==============================] - 6s 5ms/step - loss: 0.6357 - accuracy: 0.6980 - val_loss: 0.5571 - val_accuracy: 0.7433\n",
      "Epoch 2/50\n",
      "1227/1227 [==============================] - 5s 4ms/step - loss: 0.5361 - accuracy: 0.7408 - val_loss: 0.5271 - val_accuracy: 0.7384\n",
      "Epoch 3/50\n",
      "1227/1227 [==============================] - 5s 4ms/step - loss: 0.5041 - accuracy: 0.7421 - val_loss: 0.4858 - val_accuracy: 0.7502\n",
      "Epoch 4/50\n",
      "1227/1227 [==============================] - 5s 4ms/step - loss: 0.4569 - accuracy: 0.7602 - val_loss: 0.4495 - val_accuracy: 0.7717\n",
      "Epoch 5/50\n",
      "1227/1227 [==============================] - 5s 4ms/step - loss: 0.4267 - accuracy: 0.7857 - val_loss: 0.4220 - val_accuracy: 0.7984\n",
      "Epoch 6/50\n",
      "1227/1227 [==============================] - 5s 4ms/step - loss: 0.4009 - accuracy: 0.8053 - val_loss: 0.4021 - val_accuracy: 0.7863\n",
      "Epoch 7/50\n",
      "1227/1227 [==============================] - 5s 4ms/step - loss: 0.3832 - accuracy: 0.8072 - val_loss: 0.3829 - val_accuracy: 0.8042\n",
      "Epoch 8/50\n",
      "1227/1227 [==============================] - 5s 4ms/step - loss: 0.3727 - accuracy: 0.8060 - val_loss: 0.3831 - val_accuracy: 0.8042\n",
      "Epoch 9/50\n",
      "1227/1227 [==============================] - 5s 4ms/step - loss: 0.3656 - accuracy: 0.8076 - val_loss: 0.3768 - val_accuracy: 0.8101\n",
      "Epoch 10/50\n",
      "1227/1227 [==============================] - 5s 4ms/step - loss: 0.3628 - accuracy: 0.8095 - val_loss: 0.3668 - val_accuracy: 0.8088\n",
      "Epoch 11/50\n",
      "1227/1227 [==============================] - 5s 4ms/step - loss: 0.3590 - accuracy: 0.8123 - val_loss: 0.3717 - val_accuracy: 0.7984\n",
      "Epoch 12/50\n",
      "1227/1227 [==============================] - 5s 4ms/step - loss: 0.3574 - accuracy: 0.8106 - val_loss: 0.3563 - val_accuracy: 0.8150\n",
      "Epoch 13/50\n",
      "1227/1227 [==============================] - 5s 4ms/step - loss: 0.3528 - accuracy: 0.8137 - val_loss: 0.3634 - val_accuracy: 0.8003\n",
      "Epoch 14/50\n",
      "1227/1227 [==============================] - 5s 4ms/step - loss: 0.3480 - accuracy: 0.8152 - val_loss: 0.3589 - val_accuracy: 0.8098\n",
      "Epoch 15/50\n",
      "1227/1227 [==============================] - 5s 4ms/step - loss: 0.3485 - accuracy: 0.8138 - val_loss: 0.3585 - val_accuracy: 0.8003\n",
      "Epoch 16/50\n",
      "1227/1227 [==============================] - 5s 4ms/step - loss: 0.3461 - accuracy: 0.8146 - val_loss: 0.3519 - val_accuracy: 0.8130\n",
      "Epoch 17/50\n",
      "1227/1227 [==============================] - 5s 4ms/step - loss: 0.3445 - accuracy: 0.8160 - val_loss: 0.3522 - val_accuracy: 0.8127\n",
      "Epoch 18/50\n",
      "1227/1227 [==============================] - 5s 4ms/step - loss: 0.3437 - accuracy: 0.8142 - val_loss: 0.3563 - val_accuracy: 0.8130\n",
      "Epoch 19/50\n",
      "1227/1227 [==============================] - 5s 4ms/step - loss: 0.3429 - accuracy: 0.8180 - val_loss: 0.3535 - val_accuracy: 0.8055\n",
      "Epoch 20/50\n",
      "1227/1227 [==============================] - 5s 4ms/step - loss: 0.3418 - accuracy: 0.8167 - val_loss: 0.3528 - val_accuracy: 0.8127\n",
      "Epoch 21/50\n",
      "1227/1227 [==============================] - 5s 4ms/step - loss: 0.3439 - accuracy: 0.8163 - val_loss: 0.3515 - val_accuracy: 0.8046\n",
      "Epoch 22/50\n",
      "1227/1227 [==============================] - 5s 4ms/step - loss: 0.3407 - accuracy: 0.8158 - val_loss: 0.3519 - val_accuracy: 0.8147\n",
      "Epoch 23/50\n",
      "1227/1227 [==============================] - 5s 4ms/step - loss: 0.3407 - accuracy: 0.8184 - val_loss: 0.3478 - val_accuracy: 0.8134\n",
      "Epoch 24/50\n",
      "1227/1227 [==============================] - 5s 4ms/step - loss: 0.3409 - accuracy: 0.8169 - val_loss: 0.3560 - val_accuracy: 0.8127\n",
      "Epoch 25/50\n",
      "1227/1227 [==============================] - 5s 4ms/step - loss: 0.3402 - accuracy: 0.8175 - val_loss: 0.3502 - val_accuracy: 0.8117\n",
      "Epoch 26/50\n",
      "1227/1227 [==============================] - 5s 4ms/step - loss: 0.3422 - accuracy: 0.8129 - val_loss: 0.3579 - val_accuracy: 0.8121\n",
      "Epoch 27/50\n",
      "1227/1227 [==============================] - 5s 4ms/step - loss: 0.3411 - accuracy: 0.8168 - val_loss: 0.3509 - val_accuracy: 0.7954\n",
      "Epoch 28/50\n",
      "1227/1227 [==============================] - 5s 4ms/step - loss: 0.3415 - accuracy: 0.8172 - val_loss: 0.3448 - val_accuracy: 0.8147\n",
      "Epoch 29/50\n",
      "1227/1227 [==============================] - 5s 4ms/step - loss: 0.3387 - accuracy: 0.8168 - val_loss: 0.3475 - val_accuracy: 0.8134\n",
      "Epoch 30/50\n",
      "1227/1227 [==============================] - 5s 4ms/step - loss: 0.3387 - accuracy: 0.8175 - val_loss: 0.3464 - val_accuracy: 0.8121\n",
      "Epoch 31/50\n",
      "1227/1227 [==============================] - 5s 4ms/step - loss: 0.3405 - accuracy: 0.8161 - val_loss: 0.3429 - val_accuracy: 0.8231\n",
      "Epoch 32/50\n",
      "1227/1227 [==============================] - 5s 4ms/step - loss: 0.3391 - accuracy: 0.8183 - val_loss: 0.3456 - val_accuracy: 0.8156\n",
      "Epoch 33/50\n",
      "1227/1227 [==============================] - 5s 4ms/step - loss: 0.3390 - accuracy: 0.8183 - val_loss: 0.3452 - val_accuracy: 0.8192\n",
      "Epoch 34/50\n",
      "1227/1227 [==============================] - 5s 4ms/step - loss: 0.3384 - accuracy: 0.8164 - val_loss: 0.3488 - val_accuracy: 0.8137\n",
      "Epoch 35/50\n",
      "1227/1227 [==============================] - 5s 4ms/step - loss: 0.3385 - accuracy: 0.8204 - val_loss: 0.3473 - val_accuracy: 0.8010\n",
      "Epoch 36/50\n",
      "1227/1227 [==============================] - 5s 4ms/step - loss: 0.3375 - accuracy: 0.8183 - val_loss: 0.3425 - val_accuracy: 0.8176\n",
      "Epoch 37/50\n",
      "1227/1227 [==============================] - 5s 4ms/step - loss: 0.3379 - accuracy: 0.8197 - val_loss: 0.3471 - val_accuracy: 0.8140\n",
      "Epoch 38/50\n",
      "1227/1227 [==============================] - 5s 4ms/step - loss: 0.3378 - accuracy: 0.8178 - val_loss: 0.3461 - val_accuracy: 0.8134\n",
      "Epoch 39/50\n",
      "1227/1227 [==============================] - 5s 4ms/step - loss: 0.3391 - accuracy: 0.8149 - val_loss: 0.3388 - val_accuracy: 0.8150\n",
      "Epoch 40/50\n",
      "1227/1227 [==============================] - 5s 4ms/step - loss: 0.3349 - accuracy: 0.8167 - val_loss: 0.3439 - val_accuracy: 0.8127\n",
      "Epoch 41/50\n",
      "1227/1227 [==============================] - 5s 4ms/step - loss: 0.3351 - accuracy: 0.8196 - val_loss: 0.3420 - val_accuracy: 0.8078\n",
      "Epoch 42/50\n",
      "1227/1227 [==============================] - 5s 4ms/step - loss: 0.3343 - accuracy: 0.8196 - val_loss: 0.3441 - val_accuracy: 0.8055\n",
      "Epoch 43/50\n",
      "1227/1227 [==============================] - 5s 4ms/step - loss: 0.3333 - accuracy: 0.8222 - val_loss: 0.3441 - val_accuracy: 0.8013\n",
      "Epoch 44/50\n",
      "1227/1227 [==============================] - 5s 4ms/step - loss: 0.3318 - accuracy: 0.8206 - val_loss: 0.3448 - val_accuracy: 0.8039\n",
      "Epoch 45/50\n",
      "1227/1227 [==============================] - 5s 4ms/step - loss: 0.3323 - accuracy: 0.8187 - val_loss: 0.3353 - val_accuracy: 0.8225\n",
      "Epoch 46/50\n",
      "1227/1227 [==============================] - 5s 4ms/step - loss: 0.3317 - accuracy: 0.8220 - val_loss: 0.3423 - val_accuracy: 0.8013\n",
      "Epoch 47/50\n",
      "1227/1227 [==============================] - 5s 4ms/step - loss: 0.3302 - accuracy: 0.8213 - val_loss: 0.3327 - val_accuracy: 0.8199\n",
      "Epoch 48/50\n",
      "1227/1227 [==============================] - 5s 4ms/step - loss: 0.3287 - accuracy: 0.8209 - val_loss: 0.3326 - val_accuracy: 0.8186\n",
      "Epoch 49/50\n",
      "1227/1227 [==============================] - 5s 4ms/step - loss: 0.3267 - accuracy: 0.8253 - val_loss: 0.3318 - val_accuracy: 0.8160\n",
      "Epoch 50/50\n",
      "1227/1227 [==============================] - 5s 4ms/step - loss: 0.3266 - accuracy: 0.8271 - val_loss: 0.3302 - val_accuracy: 0.8182\n"
     ]
    }
   ],
   "source": [
    "history = model.fit([X_train1,X_train2], y_train1, epochs=50, validation_data=([X_test1,X_test2], y_test1), batch_size=8)\n",
    "model.save('drive/My Drive/HandwritingPersonality/model/CNN_Model.model')"
   ]
  },
  {
   "cell_type": "code",
   "execution_count": 0,
   "metadata": {
    "colab": {},
    "colab_type": "code",
    "id": "vpk2WvL-D_oI"
   },
   "outputs": [],
   "source": [
    "import json\n",
    "with open('drive/My Drive/HandwritingPersonality/model/history.json', 'w') as f:\n",
    "    json.dump(str(history.history), f)"
   ]
  },
  {
   "cell_type": "code",
   "execution_count": 20,
   "metadata": {
    "colab": {
     "base_uri": "https://localhost:8080/",
     "height": 282
    },
    "colab_type": "code",
    "executionInfo": {
     "elapsed": 1018,
     "status": "ok",
     "timestamp": 1590778566149,
     "user": {
      "displayName": "Sahaj d",
      "photoUrl": "",
      "userId": "13950582096679244504"
     },
     "user_tz": -330
    },
    "id": "OX5SzKJ4Gnor",
    "outputId": "b0e459bd-c3ee-404f-a242-cb9261f927f2"
   },
   "outputs": [
    {
     "data": {
      "text/plain": [
       "<matplotlib.axes._subplots.AxesSubplot at 0x7f0c5c273b70>"
      ]
     },
     "execution_count": 20,
     "metadata": {
      "tags": []
     },
     "output_type": "execute_result"
    },
    {
     "data": {
      "image/png": "[encoded data removed]",
      "text/plain": [
       "<Figure size 432x288 with 1 Axes>"
      ]
     },
     "metadata": {
      "needs_background": "light",
      "tags": []
     },
     "output_type": "display_data"
    }
   ],
   "source": [
    "history_df = pd.DataFrame(history.history)\n",
    "history_df[['accuracy', 'val_accuracy']].plot()"
   ]
  },
  {
   "cell_type": "code",
   "execution_count": 21,
   "metadata": {
    "colab": {
     "base_uri": "https://localhost:8080/",
     "height": 286
    },
    "colab_type": "code",
    "executionInfo": {
     "elapsed": 981,
     "status": "ok",
     "timestamp": 1590778576251,
     "user": {
      "displayName": "Sahaj d",
      "photoUrl": "",
      "userId": "13950582096679244504"
     },
     "user_tz": -330
    },
    "id": "0F9xniC7LBGo",
    "outputId": "cb3652d7-cf8a-4f27-e4e3-2f493a3b03c3"
   },
   "outputs": [
    {
     "data": {
      "text/plain": [
       "<matplotlib.axes._subplots.AxesSubplot at 0x7f0c5c1f64e0>"
      ]
     },
     "execution_count": 21,
     "metadata": {
      "tags": []
     },
     "output_type": "execute_result"
    },
    {
     "data": {
      "image/png": "[encoded data removed]",
      "text/plain": [
       "<Figure size 432x288 with 1 Axes>"
      ]
     },
     "metadata": {
      "needs_background": "light",
      "tags": []
     },
     "output_type": "display_data"
    }
   ],
   "source": [
    "history_df = pd.DataFrame(history.history)\n",
    "history_df[['loss', 'val_loss']].plot()"
   ]
  },
  {
   "cell_type": "code",
   "execution_count": 0,
   "metadata": {
    "colab": {},
    "colab_type": "code",
    "id": "ZejUklvOg6fr"
   },
   "outputs": [],
   "source": []
  }
 ],
 "metadata": {
  "accelerator": "GPU",
  "colab": {
   "collapsed_sections": [],
   "name": "Copy of TrainNew2.ipynb",
   "provenance": []
  },
  "kernelspec": {
   "display_name": "Python 3",
   "language": "python",
   "name": "python3"
  },
  "language_info": {
   "codemirror_mode": {
    "name": "ipython",
    "version": 3
   },
   "file_extension": ".py",
   "mimetype": "text/x-python",
   "name": "python",
   "nbconvert_exporter": "python",
   "pygments_lexer": "ipython3",
   "version": "3.7.3"
  },
  "widgets": {
   "application/vnd.jupyter.widget-state+json": {
    "12c3cf1e97d94b1bbf18a4a9c385de11": {
     "model_module": "@jupyter-widgets/controls",
     "model_name": "ProgressStyleModel",
     "state": {
      "_model_module": "@jupyter-widgets/controls",
      "_model_module_version": "1.5.0",
      "_model_name": "ProgressStyleModel",
      "_view_count": null,
      "_view_module": "@jupyter-widgets/base",
      "_view_module_version": "1.2.0",
      "_view_name": "StyleView",
      "bar_color": null,
      "description_width": "initial"
     }
    },
    "4849d0c51ef1453599d1ede7e364b2e3": {
     "model_module": "@jupyter-widgets/controls",
     "model_name": "DescriptionStyleModel",
     "state": {
      "_model_module": "@jupyter-widgets/controls",
      "_model_module_version": "1.5.0",
      "_model_name": "DescriptionStyleModel",
      "_view_count": null,
      "_view_module": "@jupyter-widgets/base",
      "_view_module_version": "1.2.0",
      "_view_name": "StyleView",
      "description_width": ""
     }
    },
    "4ed19a4e6b8c40338eda80e5ab9a7b59": {
     "model_module": "@jupyter-widgets/controls",
     "model_name": "FloatProgressModel",
     "state": {
      "_dom_classes": [],
      "_model_module": "@jupyter-widgets/controls",
      "_model_module_version": "1.5.0",
      "_model_name": "FloatProgressModel",
      "_view_count": null,
      "_view_module": "@jupyter-widgets/controls",
      "_view_module_version": "1.5.0",
      "_view_name": "ProgressView",
      "bar_style": "success",
      "description": "100%",
      "description_tooltip": null,
      "layout": "IPY_MODEL_bc26707aa3d545aea786e39a800b7d9a",
      "max": 1534,
      "min": 0,
      "orientation": "horizontal",
      "style": "IPY_MODEL_12c3cf1e97d94b1bbf18a4a9c385de11",
      "value": 1534
     }
    },
    "8435ae8278c44f21925cd0b09879c5be": {
     "model_module": "@jupyter-widgets/controls",
     "model_name": "HTMLModel",
     "state": {
      "_dom_classes": [],
      "_model_module": "@jupyter-widgets/controls",
      "_model_module_version": "1.5.0",
      "_model_name": "HTMLModel",
      "_view_count": null,
      "_view_module": "@jupyter-widgets/controls",
      "_view_module_version": "1.5.0",
      "_view_name": "HTMLView",
      "description": "",
      "description_tooltip": null,
      "layout": "IPY_MODEL_eb542b01194d43ca9c1929245cdca808",
      "placeholder": "​",
      "style": "IPY_MODEL_4849d0c51ef1453599d1ede7e364b2e3",
      "value": " 1534/1534 [09:59&lt;00:00,  2.56it/s]"
     }
    },
    "93760a426cc845f8b983a06ef6c3740d": {
     "model_module": "@jupyter-widgets/controls",
     "model_name": "HBoxModel",
     "state": {
      "_dom_classes": [],
      "_model_module": "@jupyter-widgets/controls",
      "_model_module_version": "1.5.0",
      "_model_name": "HBoxModel",
      "_view_count": null,
      "_view_module": "@jupyter-widgets/controls",
      "_view_module_version": "1.5.0",
      "_view_name": "HBoxView",
      "box_style": "",
      "children": [
       "IPY_MODEL_4ed19a4e6b8c40338eda80e5ab9a7b59",
       "IPY_MODEL_8435ae8278c44f21925cd0b09879c5be"
      ],
      "layout": "IPY_MODEL_be8c4b41ae2144369bb1cd64d80e7857"
     }
    },
    "bc26707aa3d545aea786e39a800b7d9a": {
     "model_module": "@jupyter-widgets/base",
     "model_name": "LayoutModel",
     "state": {
      "_model_module": "@jupyter-widgets/base",
      "_model_module_version": "1.2.0",
      "_model_name": "LayoutModel",
      "_view_count": null,
      "_view_module": "@jupyter-widgets/base",
      "_view_module_version": "1.2.0",
      "_view_name": "LayoutView",
      "align_content": null,
      "align_items": null,
      "align_self": null,
      "border": null,
      "bottom": null,
      "display": null,
      "flex": null,
      "flex_flow": null,
      "grid_area": null,
      "grid_auto_columns": null,
      "grid_auto_flow": null,
      "grid_auto_rows": null,
      "grid_column": null,
      "grid_gap": null,
      "grid_row": null,
      "grid_template_areas": null,
      "grid_template_columns": null,
      "grid_template_rows": null,
      "height": null,
      "justify_content": null,
      "justify_items": null,
      "left": null,
      "margin": null,
      "max_height": null,
      "max_width": null,
      "min_height": null,
      "min_width": null,
      "object_fit": null,
      "object_position": null,
      "order": null,
      "overflow": null,
      "overflow_x": null,
      "overflow_y": null,
      "padding": null,
      "right": null,
      "top": null,
      "visibility": null,
      "width": null
     }
    },
    "be8c4b41ae2144369bb1cd64d80e7857": {
     "model_module": "@jupyter-widgets/base",
     "model_name": "LayoutModel",
     "state": {
      "_model_module": "@jupyter-widgets/base",
      "_model_module_version": "1.2.0",
      "_model_name": "LayoutModel",
      "_view_count": null,
      "_view_module": "@jupyter-widgets/base",
      "_view_module_version": "1.2.0",
      "_view_name": "LayoutView",
      "align_content": null,
      "align_items": null,
      "align_self": null,
      "border": null,
      "bottom": null,
      "display": null,
      "flex": null,
      "flex_flow": null,
      "grid_area": null,
      "grid_auto_columns": null,
      "grid_auto_flow": null,
      "grid_auto_rows": null,
      "grid_column": null,
      "grid_gap": null,
      "grid_row": null,
      "grid_template_areas": null,
      "grid_template_columns": null,
      "grid_template_rows": null,
      "height": null,
      "justify_content": null,
      "justify_items": null,
      "left": null,
      "margin": null,
      "max_height": null,
      "max_width": null,
      "min_height": null,
      "min_width": null,
      "object_fit": null,
      "object_position": null,
      "order": null,
      "overflow": null,
      "overflow_x": null,
      "overflow_y": null,
      "padding": null,
      "right": null,
      "top": null,
      "visibility": null,
      "width": null
     }
    },
    "eb542b01194d43ca9c1929245cdca808": {
     "model_module": "@jupyter-widgets/base",
     "model_name": "LayoutModel",
     "state": {
      "_model_module": "@jupyter-widgets/base",
      "_model_module_version": "1.2.0",
      "_model_name": "LayoutModel",
      "_view_count": null,
      "_view_module": "@jupyter-widgets/base",
      "_view_module_version": "1.2.0",
      "_view_name": "LayoutView",
      "align_content": null,
      "align_items": null,
      "align_self": null,
      "border": null,
      "bottom": null,
      "display": null,
      "flex": null,
      "flex_flow": null,
      "grid_area": null,
      "grid_auto_columns": null,
      "grid_auto_flow": null,
      "grid_auto_rows": null,
      "grid_column": null,
      "grid_gap": null,
      "grid_row": null,
      "grid_template_areas": null,
      "grid_template_columns": null,
      "grid_template_rows": null,
      "height": null,
      "justify_content": null,
      "justify_items": null,
      "left": null,
      "margin": null,
      "max_height": null,
      "max_width": null,
      "min_height": null,
      "min_width": null,
      "object_fit": null,
      "object_position": null,
      "order": null,
      "overflow": null,
      "overflow_x": null,
      "overflow_y": null,
      "padding": null,
      "right": null,
      "top": null,
      "visibility": null,
      "width": null
     }
    }
   }
  }
 },
 "nbformat": 4,
 "nbformat_minor": 1
}
